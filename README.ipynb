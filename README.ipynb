{
 "cells": [
  {
   "cell_type": "markdown",
   "metadata": {},
   "source": [
    "# Spectrum Anomaly Detection for Optical Network Monitoring using Deep Unsupervised Learning\n",
    "\n",
    "**Authors:** [Carlos Natalino](https://www.chalmers.se/en/staff/Pages/Carlos-Natalino-Da-Silva.aspx)\\*, Aleksejs Udalcovs\\*\\*, Lena Wosinska\\*, Oskars Ozolins\\*\\*, [Marija Furdek](https://www.chalmers.se/en/staff/Pages/Marija-Furdek-Prekratic.aspx)\\*\n",
    "\n",
    "\\* Department of Electrical Engineering, Chalmers University of Technology, Gothenburg, Sweden (e-mail: carlos.natalino@chalmers.se, wosinska@chalmers.se, furdek@chalmers.se).\n",
    "\n",
    "\\*\\* RISE Research Institutes of Sweden, Kista, Sweden (e-mail: aleksejs.udalcovs@ri.se, oskars.ozolins@ri.se).\n",
    "\n",
    "**Abstract:** Accurate and efficient anomaly detection is a key enabler for the cognitive management of optical networks, but traditional anomaly detection algorithms are computationally complex and do not scale well with the amount of monitoring data. Therefore, we propose an optical spectrum anomaly detection scheme that exploits computer vision and deep unsupervised learning to perform optical network monitoring relying only on constellation diagrams of received signals. The proposed scheme achieves 100\\% detection accuracy even without prior knowledge of the anomalies. Furthermore, operation with encoded images of constellation diagrams reduces the runtime by up to 200 times.\n",
    "\n",
    "Paper (IEEEXplore): https://ieeexplore.ieee.org/document/9336677\n",
    "Dataset (IEEE Data Port): https://dx.doi.org/10.21227/g9s9-ba02\n",
    "\n",
    "![Performance of the proposed scheme](figures/falses-algorithms.svg)\n",
    "\n",
    "# What is in this repository?\n",
    "\n",
    "To run this implementation, you should download the dataset from IEEE DataPort and point the `base_folder` variable to the location of the dataset.\n",
    "\n",
    "This repository contains the following files:\n",
    "\n",
    "- A notebook implementing the training of the autoencoder [here](./training-autoencoder.ipynb)\n",
    "- A notebook implementing the training (for OCSVM) and performance evaluation for [16QAM@40dB](./testing-accuracy-16QAM_40dB.ipynb), [64QAM@40dB](./testing-accuracy-64QAM_40dB.ipynb) and [16QAM@25dB](./testing-accuracy-16QAM_25dB.ipynb)\n",
    "- A notebook implementing the runtime performance testing [here](./testing-runtime.ipynb)\n",
    "- A notebook plotting the results [here](./plots-from-file.ipynb)\n",
    "\n",
    "## Citing this work:\n",
    "\n",
    "```\n",
    "@ARTICLE{NatalinoEtAl:2021:CommLetters,\n",
    "  author={C. {Natalino} and A. {Udalcovs} and L. {Wosinska} and O. {Ozolins} and M. {Furdek}},\n",
    "  journal={IEEE Communications Letters}, \n",
    "  title={Spectrum Anomaly Detection for Optical Network Monitoring using Deep Unsupervised Learning}, \n",
    "  year={2021},\n",
    "  pages={1-1},\n",
    "  doi={10.1109/LCOMM.2021.3055064}\n",
    "}\n",
    "```\n",
    "\n",
    "## Dependencies:\n",
    "\n",
    "This implementation was executed using Python 3.7 and the following libraries:\n",
    "- TensorFlow 2.x\n",
    "- Matplotlib\n",
    "- Scikit-Learn\n",
    "- ImageIO\n",
    "\n"
   ]
  }
 ],
 "metadata": {
  "kernelspec": {
   "display_name": "Python 3",
   "language": "python",
   "name": "python3"
  },
  "language_info": {
   "codemirror_mode": {
    "name": "ipython",
    "version": 3
   },
   "file_extension": ".py",
   "mimetype": "text/x-python",
   "name": "python",
   "nbconvert_exporter": "python",
   "pygments_lexer": "ipython3",
   "version": "3.7.9"
  }
 },
 "nbformat": 4,
 "nbformat_minor": 4
}
